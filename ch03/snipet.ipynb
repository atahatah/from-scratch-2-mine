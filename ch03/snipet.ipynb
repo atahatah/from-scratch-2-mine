{
 "cells": [
  {
   "cell_type": "code",
   "execution_count": 1,
   "metadata": {},
   "outputs": [
    {
     "name": "stdout",
     "output_type": "stream",
     "text": [
      "[[ 1.56149016  0.20065069 -0.64284873]]\n"
     ]
    }
   ],
   "source": [
    "import numpy as np\n",
    "\n",
    "c = np.array([[1, 0, 0, 0, 0, 0, 0]]) # 入力\n",
    "W = np.random.randn(7, 3)             # 重み\n",
    "h = c @ W                             # 中間ノード\n",
    "print(h)"
   ]
  },
  {
   "cell_type": "code",
   "execution_count": 2,
   "metadata": {},
   "outputs": [
    {
     "name": "stdout",
     "output_type": "stream",
     "text": [
      "[[-0.67801243  0.56433297 -0.85858589]]\n"
     ]
    }
   ],
   "source": [
    "import sys\n",
    "sys.path.append('..')\n",
    "import numpy as np\n",
    "from common.layers import MatMul\n",
    "\n",
    "c = np.array([[1, 0, 0, 0, 0, 0, 0]])\n",
    "W = np.random.randn(7, 3)\n",
    "layer = MatMul(W)\n",
    "h = layer.forward(c)\n",
    "print(h)"
   ]
  },
  {
   "cell_type": "code",
   "execution_count": 3,
   "metadata": {},
   "outputs": [
    {
     "name": "stdout",
     "output_type": "stream",
     "text": [
      "[0 1 2 3 4 1 5 6]\n",
      "{0: 'you', 1: 'say', 2: 'goodbye', 3: 'and', 4: 'i', 5: 'hello', 6: '.'}\n"
     ]
    }
   ],
   "source": [
    "import sys\n",
    "sys.path.append('..')\n",
    "from common.util import preprocess\n",
    "\n",
    "text = 'You say goodbye and I say hello.'\n",
    "corpus, word_to_id, id_to_word = preprocess(text)\n",
    "print(corpus)\n",
    "print(id_to_word)"
   ]
  },
  {
   "cell_type": "code",
   "execution_count": 4,
   "metadata": {},
   "outputs": [
    {
     "name": "stdout",
     "output_type": "stream",
     "text": [
      "[[0 2]\n",
      " [1 3]\n",
      " [2 4]\n",
      " [3 1]\n",
      " [4 5]\n",
      " [1 6]]\n",
      "[1 2 3 4 1 5]\n"
     ]
    }
   ],
   "source": [
    "from common_util import create_contexts_target\n",
    "contexts, target = create_contexts_target(corpus, window_size=1)\n",
    "\n",
    "print(contexts)\n",
    "print(target)"
   ]
  },
  {
   "cell_type": "code",
   "execution_count": 7,
   "metadata": {},
   "outputs": [
    {
     "name": "stdout",
     "output_type": "stream",
     "text": [
      "[[0 1 0 0 0 0 0]\n",
      " [0 0 1 0 0 0 0]\n",
      " [0 0 0 1 0 0 0]\n",
      " [0 0 0 0 1 0 0]\n",
      " [0 1 0 0 0 0 0]\n",
      " [0 0 0 0 0 1 0]]\n",
      "[[[1 0 0 0 0 0 0]\n",
      "  [0 1 0 0 0 0 0]\n",
      "  [1 0 0 0 0 0 0]\n",
      "  [1 0 0 0 0 0 0]\n",
      "  [1 0 0 0 0 0 0]\n",
      "  [1 0 0 0 0 0 0]\n",
      "  [1 0 0 0 0 0 0]]\n",
      "\n",
      " [[1 0 0 0 0 0 0]\n",
      "  [1 0 0 0 0 0 0]\n",
      "  [0 1 0 0 0 0 0]\n",
      "  [1 0 0 0 0 0 0]\n",
      "  [1 0 0 0 0 0 0]\n",
      "  [1 0 0 0 0 0 0]\n",
      "  [1 0 0 0 0 0 0]]\n",
      "\n",
      " [[1 0 0 0 0 0 0]\n",
      "  [1 0 0 0 0 0 0]\n",
      "  [1 0 0 0 0 0 0]\n",
      "  [0 1 0 0 0 0 0]\n",
      "  [1 0 0 0 0 0 0]\n",
      "  [1 0 0 0 0 0 0]\n",
      "  [1 0 0 0 0 0 0]]\n",
      "\n",
      " [[1 0 0 0 0 0 0]\n",
      "  [1 0 0 0 0 0 0]\n",
      "  [1 0 0 0 0 0 0]\n",
      "  [1 0 0 0 0 0 0]\n",
      "  [0 1 0 0 0 0 0]\n",
      "  [1 0 0 0 0 0 0]\n",
      "  [1 0 0 0 0 0 0]]\n",
      "\n",
      " [[1 0 0 0 0 0 0]\n",
      "  [0 1 0 0 0 0 0]\n",
      "  [1 0 0 0 0 0 0]\n",
      "  [1 0 0 0 0 0 0]\n",
      "  [1 0 0 0 0 0 0]\n",
      "  [1 0 0 0 0 0 0]\n",
      "  [1 0 0 0 0 0 0]]\n",
      "\n",
      " [[1 0 0 0 0 0 0]\n",
      "  [1 0 0 0 0 0 0]\n",
      "  [1 0 0 0 0 0 0]\n",
      "  [1 0 0 0 0 0 0]\n",
      "  [1 0 0 0 0 0 0]\n",
      "  [0 1 0 0 0 0 0]\n",
      "  [1 0 0 0 0 0 0]]]\n"
     ]
    }
   ],
   "source": [
    "import sys\n",
    "sys.path.append('..')\n",
    "from common.util import preprocess, create_contexts_target, convert_one_hot\n",
    "\n",
    "text = 'You say goodbye and I say hello.'\n",
    "corpus, word_to_id, id_to_word = preprocess(text)\n",
    "\n",
    "contexts, target = create_contexts_target(corpus, window_size=1)\n",
    "\n",
    "vocab_size = len(word_to_id)\n",
    "target = convert_one_hot(target, vocab_size)\n",
    "contexts = convert_one_hot(target, vocab_size)\n",
    "\n",
    "print(target)\n",
    "print(contexts)"
   ]
  }
 ],
 "metadata": {
  "kernelspec": {
   "display_name": "from-scratch-2",
   "language": "python",
   "name": "python3"
  },
  "language_info": {
   "codemirror_mode": {
    "name": "ipython",
    "version": 3
   },
   "file_extension": ".py",
   "mimetype": "text/x-python",
   "name": "python",
   "nbconvert_exporter": "python",
   "pygments_lexer": "ipython3",
   "version": "3.11.3"
  },
  "orig_nbformat": 4
 },
 "nbformat": 4,
 "nbformat_minor": 2
}
